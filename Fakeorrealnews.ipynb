{
  "nbformat": 4,
  "nbformat_minor": 0,
  "metadata": {
    "colab": {
      "provenance": [],
      "gpuType": "T4",
      "authorship_tag": "ABX9TyNsxkKNs29EnqQ8O2+DdrC7",
      "include_colab_link": true
    },
    "kernelspec": {
      "name": "python3",
      "display_name": "Python 3"
    },
    "language_info": {
      "name": "python"
    },
    "accelerator": "GPU"
  },
  "cells": [
    {
      "cell_type": "markdown",
      "metadata": {
        "id": "view-in-github",
        "colab_type": "text"
      },
      "source": [
        "<a href=\"https://colab.research.google.com/github/Shravan773/train-dataset/blob/main/Fakeorrealnews.ipynb\" target=\"_parent\"><img src=\"https://colab.research.google.com/assets/colab-badge.svg\" alt=\"Open In Colab\"/></a>"
      ]
    },
    {
      "cell_type": "code",
      "execution_count": 4,
      "metadata": {
        "colab": {
          "base_uri": "https://localhost:8080/"
        },
        "id": "w4bmdUw0mWBM",
        "outputId": "1eaf88ee-ccab-4a7b-d338-7d2c13077d9d"
      },
      "outputs": [
        {
          "output_type": "stream",
          "name": "stdout",
          "text": [
            "Accuracy: 0.9946547884187082\n",
            "Classification Report:\n",
            "              precision    recall  f1-score   support\n",
            "\n",
            "           0       1.00      0.99      0.99      4669\n",
            "           1       0.99      1.00      0.99      4311\n",
            "\n",
            "    accuracy                           0.99      8980\n",
            "   macro avg       0.99      0.99      0.99      8980\n",
            "weighted avg       0.99      0.99      0.99      8980\n",
            "\n",
            "Confusion Matrix:\n",
            "[[4639   30]\n",
            " [  18 4293]]\n"
          ]
        }
      ],
      "source": [
        "import pandas as pd\n",
        "from sklearn.model_selection import train_test_split\n",
        "from sklearn.feature_extraction.text import TfidfVectorizer\n",
        "from sklearn.svm import LinearSVC\n",
        "from sklearn.metrics import accuracy_score, classification_report, confusion_matrix\n",
        "from sklearn.utils import shuffle\n",
        "\n",
        "# Load the data\n",
        "true_data = pd.read_csv('True.csv')\n",
        "false_data = pd.read_csv('Fake.csv')\n",
        "\n",
        "# Add a 'label' column to indicate whether the news is true or false\n",
        "true_data['label'] = 1  # 1 for true news\n",
        "false_data['label'] = 0  # 0 for false news\n",
        "\n",
        "# Concatenate the datasets\n",
        "all_data = pd.concat([true_data, false_data], ignore_index=True)\n",
        "\n",
        "# Combine 'title' and 'text' columns into a single column\n",
        "all_data['combined_text'] = all_data['title'] + ' ' + all_data['text']\n",
        "\n",
        "# Shuffle the data\n",
        "all_data = shuffle(all_data, random_state=42)\n",
        "\n",
        "# Use a simple TF-IDF vectorizer\n",
        "vectorizer = TfidfVectorizer(max_features=5000)  # Adjust the max_features parameter\n",
        "X_tfidf = vectorizer.fit_transform(all_data['combined_text'])\n",
        "y = all_data['label']\n",
        "\n",
        "# Split the data into training and testing sets\n",
        "X_train, X_test, y_train, y_test = train_test_split(X_tfidf, y, test_size=0.2, random_state=42)\n",
        "\n",
        "# Train a classifier (e.g., Linear SVM)\n",
        "classifier = LinearSVC()\n",
        "classifier.fit(X_train, y_train)\n",
        "\n",
        "# Make predictions on the test set\n",
        "y_pred = classifier.predict(X_test)\n",
        "\n",
        "# Evaluate the model\n",
        "accuracy = accuracy_score(y_test, y_pred)\n",
        "report = classification_report(y_test, y_pred)\n",
        "conf_matrix = confusion_matrix(y_test, y_pred)\n",
        "\n",
        "print(f\"Accuracy: {accuracy}\")\n",
        "print(\"Classification Report:\")\n",
        "print(report)\n",
        "print(\"Confusion Matrix:\")\n",
        "print(conf_matrix)\n"
      ]
    }
  ]
}